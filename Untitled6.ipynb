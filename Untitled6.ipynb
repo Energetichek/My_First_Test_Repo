{
  "nbformat": 4,
  "nbformat_minor": 0,
  "metadata": {
    "colab": {
      "provenance": [],
      "authorship_tag": "ABX9TyN3TmNauU3nrYX3U0MRMzL/",
      "include_colab_link": true
    },
    "kernelspec": {
      "name": "python3",
      "display_name": "Python 3"
    },
    "language_info": {
      "name": "python"
    }
  },
  "cells": [
    {
      "cell_type": "markdown",
      "metadata": {
        "id": "view-in-github",
        "colab_type": "text"
      },
      "source": [
        "<a href=\"https://colab.research.google.com/github/Energetichek/My_First_Test_Repo/blob/upload-file/Untitled6.ipynb\" target=\"_parent\"><img src=\"https://colab.research.google.com/assets/colab-badge.svg\" alt=\"Open In Colab\"/></a>"
      ]
    },
    {
      "cell_type": "markdown",
      "source": [
        "## Пример использования Markdown\n"
      ],
      "metadata": {
        "id": "ercSQ99x2IPW"
      }
    },
    {
      "cell_type": "markdown",
      "source": [
        "- Список 1\n",
        "- Список 2\n",
        "- Список 3\n",
        "- Список 4"
      ],
      "metadata": {
        "id": "1S9siL1V3OrH"
      }
    },
    {
      "cell_type": "markdown",
      "source": [
        "https://www.marketing-branding.com/wp-content/uploads/2020/07/google-colaboratory-colab-guia-completa.jpg"
      ],
      "metadata": {
        "id": "Yabj0HP-3pdG"
      }
    },
    {
      "cell_type": "markdown",
      "source": [
        "|№    |Название      |Цвет    |\n",
        "|1    |Python        |Синий   |\n",
        "|2    |Pascal        |Зелёный |\n",
        "|3    |C++           |Чёрный  |"
      ],
      "metadata": {
        "id": "kw2TSRwc3rRW"
      }
    },
    {
      "cell_type": "markdown",
      "source": [
        "[Текст ссылки](https://colab.research.google.com/)\n"
      ],
      "metadata": {
        "id": "OBuQurgYFUFA"
      }
    }
  ]
}