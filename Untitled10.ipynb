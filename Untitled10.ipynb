{
  "nbformat": 4,
  "nbformat_minor": 0,
  "metadata": {
    "colab": {
      "provenance": [],
      "authorship_tag": "ABX9TyP1lnI2wGAa2qnWMkPYv0fg",
      "include_colab_link": true
    },
    "kernelspec": {
      "name": "python3",
      "display_name": "Python 3"
    },
    "language_info": {
      "name": "python"
    }
  },
  "cells": [
    {
      "cell_type": "markdown",
      "metadata": {
        "id": "view-in-github",
        "colab_type": "text"
      },
      "source": [
        "<a href=\"https://colab.research.google.com/github/Energetichek/My_First_Test_Repo/blob/main/Untitled10.ipynb\" target=\"_parent\"><img src=\"https://colab.research.google.com/assets/colab-badge.svg\" alt=\"Open In Colab\"/></a>"
      ]
    },
    {
      "cell_type": "markdown",
      "source": [
        "Задание на автомат. Задача №4. Базовый вариант."
      ],
      "metadata": {
        "id": "gkheHWwsv6Gt"
      }
    },
    {
      "cell_type": "code",
      "source": [
        "def print_table(months, precipitation):\n",
        "  print(\"Месяц | Осадки        | Отклонение\")\n",
        "  print(\"------+---------------+----------\")\n",
        "  avg_precipitation = sum(precipitation) / len(precipitation)\n",
        "  for i in range(len(months)):\n",
        "    deviation = precipitation[i] - avg_precipitation\n",
        "    print(\"%2d    | %5.1f         | %5.1f\" % (i+1, precipitation[i], deviation))\n",
        "months = [\"Январь\", \"Февраль\", \"Март\", \"Апрель\", \"Май\", \"Июнь\", \"Июль\", \"Август\", \"Сентябрь\", \"Октябрь\", \"Ноябрь\", \"Декабрь\"]\n",
        "precipitation = [41.3, 38.1, 43.2, 50.4, 85.7, 71.0, 78.4, 47.7, 54.2, 46.6, 41.9, 45.9]\n",
        "\n",
        "print_table(months, precipitation)"
      ],
      "metadata": {
        "colab": {
          "base_uri": "https://localhost:8080/"
        },
        "id": "zsj9FsRKwBHk",
        "outputId": "38edf175-f45e-432e-8ff1-3094cdce7c2d"
      },
      "execution_count": 15,
      "outputs": [
        {
          "output_type": "stream",
          "name": "stdout",
          "text": [
            "Месяц | Осадки        | Отклонение\n",
            "------+---------------+----------\n",
            " 1    |  41.3         | -12.4\n",
            " 2    |  38.1         | -15.6\n",
            " 3    |  43.2         | -10.5\n",
            " 4    |  50.4         |  -3.3\n",
            " 5    |  85.7         |  32.0\n",
            " 6    |  71.0         |  17.3\n",
            " 7    |  78.4         |  24.7\n",
            " 8    |  47.7         |  -6.0\n",
            " 9    |  54.2         |   0.5\n",
            "10    |  46.6         |  -7.1\n",
            "11    |  41.9         | -11.8\n",
            "12    |  45.9         |  -7.8\n"
          ]
        }
      ]
    }
  ]
}